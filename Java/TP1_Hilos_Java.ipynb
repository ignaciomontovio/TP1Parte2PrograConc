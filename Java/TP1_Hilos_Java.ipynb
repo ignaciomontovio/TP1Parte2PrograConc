{
  "nbformat": 4,
  "nbformat_minor": 0,
  "metadata": {
    "colab": {
      "provenance": [],
      "include_colab_link": true
    },
    "kernelspec": {
      "name": "python3",
      "display_name": "Python 3"
    },
    "language_info": {
      "name": "python"
    }
  },
  "cells": [
    {
      "cell_type": "markdown",
      "metadata": {
        "id": "view-in-github",
        "colab_type": "text"
      },
      "source": [
        "<a href=\"https://colab.research.google.com/github/ignaciomontovio/TP1Parte2PrograConc/blob/java/Java/TP1_Hilos_Java.ipynb\" target=\"_parent\"><img src=\"https://colab.research.google.com/assets/colab-badge.svg\" alt=\"Open In Colab\"/></a>"
      ]
    },
    {
      "cell_type": "code",
      "execution_count": 1,
      "metadata": {
        "id": "Cl5d_EOKeIVw"
      },
      "outputs": [],
      "source": [
        "import os\n",
        "\n",
        "# Crear el directorio src\n",
        "os.makedirs(\"src\", exist_ok=True)\n",
        "\n",
        "# Crear el directorio bin\n",
        "os.makedirs(\"bin\", exist_ok=True)"
      ]
    },
    {
      "cell_type": "code",
      "source": [
        "%%writefile src/Main.java\n",
        "package ejercicio1;\n",
        "\n",
        "import java.util.Formatter;\n",
        "import java.util.Random;\n",
        "\n",
        "public class Main\n",
        "{\n",
        "\n",
        "  static Random rnd = new Random();\n",
        "  static final int FIL = 5;\n",
        "  static final int COL = 5;\n",
        "  static int[][] matriz1 = new int[5][5];\n",
        "  static int[][] matriz2 = new int[5][5];\n",
        "  static int[][] matrizResultadoCS = new int[5][5];\n",
        "  static int[][] matrizResultadoCG = new int[5][5];\n",
        "\n",
        "  public static void main(String[] args) throws InterruptedException\n",
        "  {\n",
        "\n",
        "    //Inicilizar matriz con numeros aleatorios\n",
        "    inicializarMatriz(matriz1);\n",
        "    inicializarMatriz(matriz2);\n",
        "\n",
        "    //Mostrar matriz inicial\n",
        "    System.out.println(\"\\nMatriz inicial 1:\\n\");\n",
        "    mostrarMatriz(matriz1);\n",
        "    System.out.println(\"\\nMatriz inicial 2:\\n\");\n",
        "    mostrarMatriz(matriz2);\n",
        "\n",
        "    System.out.println(\"\\n-------------------------------\\n\");\n",
        "\n",
        "    //Sumar matriz secuencialmente\n",
        "    sumaSecuencial(matriz1, matriz2, matrizResultadoCS);\n",
        "\n",
        "    Thread[] threads = new Thread[5];\n",
        "\n",
        "    for (int i = 0; i < FIL; i++)\n",
        "    {\n",
        "      threads[i] = new Hilo(i);\n",
        "      threads[i].start();\n",
        "    }\n",
        "\n",
        "    for (int i = 0; i < FIL; i++)\n",
        "    {\n",
        "      threads[i].join();\n",
        "    }\n",
        "\n",
        "    System.out.println(\"Matriz resultado secuencial:\\n\");\n",
        "    mostrarMatriz(matrizResultadoCS);\n",
        "\n",
        "    System.out.println(\"\\nMatriz resultado con hilos:\\n\");\n",
        "    mostrarMatriz(matrizResultadoCG);\n",
        "\n",
        "    compararMatriz(matrizResultadoCS, matrizResultadoCG);\n",
        "  }\n",
        "\n",
        "\n",
        "  public static class Hilo extends Thread\n",
        "  {\n",
        "\n",
        "    private int position;\n",
        "\n",
        "    public Hilo(int i)\n",
        "    {\n",
        "      position = i;\n",
        "    }\n",
        "\n",
        "    public void run()\n",
        "    {\n",
        "      for (int j = 0; j < COL; j++)\n",
        "      {\n",
        "        matrizResultadoCG[position][j] = matriz1[position][j] + matriz2[position][j];\n",
        "      }\n",
        "    }\n",
        "\n",
        "  }\n",
        "\n",
        "  private static void inicializarMatriz(int[][] matriz)\n",
        "  {\n",
        "    for (int i = 0; i < FIL; i++)\n",
        "    {\n",
        "      for (int j = 0; j < COL; j++)\n",
        "      {\n",
        "        matriz[i][j] = (rnd.nextInt(65) - 32);\n",
        "      }\n",
        "    }\n",
        "\n",
        "  }\n",
        "\n",
        "  private static void sumaSecuencial(int[][] matriz1, int[][] matriz2, int[][] matrizR)\n",
        "  {\n",
        "    for (int i = 0; i < FIL; i++)\n",
        "    {\n",
        "      for (int j = 0; j < COL; j++)\n",
        "      {\n",
        "        matrizR[i][j] = matriz1[i][j] + matriz2[i][j];\n",
        "      }\n",
        "    }\n",
        "  }\n",
        "\n",
        "\n",
        "  public static void mostrarMatriz(int[][] matriz)\n",
        "  {\n",
        "    for (int i = 0; i < FIL; i++)\n",
        "    {\n",
        "      for (int j = 0; j < COL; j++)\n",
        "      {\n",
        "        System.out.print(new Formatter().format(\"%3d \", matriz[i][j]));\n",
        "      }\n",
        "      System.out.println();\n",
        "    }\n",
        "\n",
        "  }\n",
        "\n",
        "  private static void compararMatriz(int[][] matrizResultadoCS, int[][] matrizResultadoCG)\n",
        "  {\n",
        "    for (int i = 0; i < FIL; i++)\n",
        "    {\n",
        "      for (int j = 0; j < COL; j++)\n",
        "      {\n",
        "        if (!(matrizResultadoCS[i][j] == matrizResultadoCG[i][j]))\n",
        "        {\n",
        "          System.out.println(\"Las matrices no son iguales!\");\n",
        "          System.exit(1);\n",
        "        }\n",
        "      }\n",
        "    }\n",
        "    System.out.println(\"Las matrices son iguales!\");\n",
        "  }\n",
        "}"
      ],
      "metadata": {
        "colab": {
          "base_uri": "https://localhost:8080/"
        },
        "id": "6Xu6y3A5eh2u",
        "outputId": "3cac8a05-4c47-4cb9-a37c-104f3ae97759"
      },
      "execution_count": 2,
      "outputs": [
        {
          "output_type": "stream",
          "name": "stdout",
          "text": [
            "Writing src/Main.java\n"
          ]
        }
      ]
    },
    {
      "cell_type": "code",
      "source": [
        "%%writefile run.sh\n",
        "# Compilar A.java y crear el directorio bin si no existe\n",
        "javac -d bin src/Main.java\n",
        "mkdir -p bin/ejercicio1\n",
        "\n",
        "# Compilar Main.java y mover los archivos .class al directorio bin/tp2\n",
        "java -cp bin ejercicio1.Main 1>output 2>/dev/null &\n",
        "wait $!\n",
        "\n",
        "cat ./output"
      ],
      "metadata": {
        "colab": {
          "base_uri": "https://localhost:8080/"
        },
        "id": "dvn7fi6cerC-",
        "outputId": "a0245657-b774-42ee-d91b-adbc5e7941ea"
      },
      "execution_count": 3,
      "outputs": [
        {
          "output_type": "stream",
          "name": "stdout",
          "text": [
            "Writing run.sh\n"
          ]
        }
      ]
    },
    {
      "cell_type": "code",
      "source": [
        "!bash run.sh"
      ],
      "metadata": {
        "colab": {
          "base_uri": "https://localhost:8080/"
        },
        "id": "GnLSPP86ezdf",
        "outputId": "a6eb5074-27f3-47a8-f263-6eaedfcf40b4"
      },
      "execution_count": 4,
      "outputs": [
        {
          "output_type": "stream",
          "name": "stdout",
          "text": [
            "\n",
            "Matriz inicial 1:\n",
            "\n",
            "-25  13  29  17 -22 \n",
            " 24  11   8  -9 -30 \n",
            " 22  23 -14  -2   3 \n",
            " 12  25  13 -10  12 \n",
            " 23 -28 -17  15 -20 \n",
            "\n",
            "Matriz inicial 2:\n",
            "\n",
            "  4  22  21  -7  -1 \n",
            " 32 -28   4 -19  -7 \n",
            " 28 -27 -26  21  11 \n",
            " -1  19  -2  20 -28 \n",
            " -6  -6 -27 -18  20 \n",
            "\n",
            "-------------------------------\n",
            "\n",
            "Matriz resultado secuencial:\n",
            "\n",
            "-21  35  50  10 -23 \n",
            " 56 -17  12 -28 -37 \n",
            " 50  -4 -40  19  14 \n",
            " 11  44  11  10 -16 \n",
            " 17 -34 -44  -3   0 \n",
            "\n",
            "Matriz resultado con hilos:\n",
            "\n",
            "-21  35  50  10 -23 \n",
            " 56 -17  12 -28 -37 \n",
            " 50  -4 -40  19  14 \n",
            " 11  44  11  10 -16 \n",
            " 17 -34 -44  -3   0 \n",
            "Las matrices son iguales!\n"
          ]
        }
      ]
    }
  ]
}