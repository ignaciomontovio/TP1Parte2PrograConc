{
  "nbformat": 4,
  "nbformat_minor": 0,
  "metadata": {
    "colab": {
      "provenance": [],
      "authorship_tag": "ABX9TyOV59QVkHuEIPxzoZvUVujW",
      "include_colab_link": true
    },
    "kernelspec": {
      "name": "python3",
      "display_name": "Python 3"
    },
    "language_info": {
      "name": "python"
    }
  },
  "cells": [
    {
      "cell_type": "markdown",
      "metadata": {
        "id": "view-in-github",
        "colab_type": "text"
      },
      "source": [
        "<a href=\"https://colab.research.google.com/github/ignaciomontovio/TP1Parte2PrograConc/blob/java/Java/TP1_Parte2_Java.ipynb\" target=\"_parent\"><img src=\"https://colab.research.google.com/assets/colab-badge.svg\" alt=\"Open In Colab\"/></a>"
      ]
    },
    {
      "cell_type": "markdown",
      "source": [
        "TP 1 - Parte 2 - java"
      ],
      "metadata": {
        "id": "iZYvKLLVcCTs"
      }
    },
    {
      "cell_type": "code",
      "source": [
        "import os\n",
        "\n",
        "# Crear el directorio src\n",
        "os.makedirs(\"src\", exist_ok=True)\n",
        "\n",
        "# Crear el directorio bin\n",
        "os.makedirs(\"bin\", exist_ok=True)"
      ],
      "metadata": {
        "id": "ypyw3BM7cSEL"
      },
      "execution_count": 12,
      "outputs": []
    },
    {
      "cell_type": "code",
      "source": [
        "%%writefile src/Main.java\n",
        "package ejercicio1;\n",
        "\n",
        "import java.util.Formatter;\n",
        "import java.util.Random;\n",
        "\n",
        "public class Main {\n",
        "    static int[][] matriz1 = new int[5][5];\n",
        "    static int[][] matriz2 = new int[5][5];\n",
        "    static int[][] matrizResult1 = {{0, 0, 0, 0, 0}, {0, 0, 0, 0, 0}, {0, 0, 0, 0, 0}, {0, 0, 0, 0, 0}, {0, 0, 0, 0, 0}};\n",
        "    static int[][] matrizResult2 = {{0, 0, 0, 0, 0}, {0, 0, 0, 0, 0}, {0, 0, 0, 0, 0}, {0, 0, 0, 0, 0}, {0, 0, 0, 0, 0}};\n",
        "\n",
        "    public static void main(String[] args) throws InterruptedException {\n",
        "        Random rnd = new Random();\n",
        "\n",
        "\n",
        "        for (int i = 0; i < 5; i++) {\n",
        "            for (int j = 0; j < 5; j++) {\n",
        "                matriz1[i][j] = (rnd.nextInt(65) - 32);\n",
        "                matriz2[i][j] = (rnd.nextInt(65) - 32);\n",
        "            }\n",
        "        }\n",
        "\n",
        "        for (int i = 0; i < 5; i++) {\n",
        "            for (int j = 0; j < 5; j++) {\n",
        "                matrizResult1[i][j] = matriz1[i][j] + matriz2[i][j];\n",
        "            }\n",
        "        }\n",
        "\n",
        "        Thread[] threads = new Thread[5];\n",
        "        for (int i = 0; i < 5; i++) {\n",
        "            threads[i] = new Hilo(i);\n",
        "            threads[i].start();\n",
        "        }\n",
        "        for (int i = 0; i < 5; i++) {\n",
        "            threads[i].join();\n",
        "        }\n",
        "\n",
        "\n",
        "        System.out.println(\"Matriz resultado secuencial\");\n",
        "        for (int i = 0; i < 5; i++) {\n",
        "            for (int j = 0; j < 5; j++) {\n",
        "                System.out.print(new Formatter().format(\"%3d \", matrizResult1[i][j]));\n",
        "            }\n",
        "            System.out.println();\n",
        "        }\n",
        "        System.out.println(\"Matriz resultado con hilos\");\n",
        "        Formatter format = new Formatter();\n",
        "        for (int i = 0; i < 5; i++) {\n",
        "            for (int j = 0; j < 5; j++) {\n",
        "                System.out.print(new Formatter().format(\"%3d \", matrizResult2[i][j]));\n",
        "            }\n",
        "            System.out.println();\n",
        "        }\n",
        "    }\n",
        "\n",
        "    public static class Hilo extends Thread {\n",
        "        int position;\n",
        "        public Hilo(int i) {\n",
        "            position= i;\n",
        "        }\n",
        "\n",
        "        @Override\n",
        "        public void run()\n",
        "        {\n",
        "            for (int j = 0; j < 5; j++) {\n",
        "                matrizResult2[position][j] = matriz1[position][j] + matriz2[position][j];\n",
        "            }\n",
        "        }\n",
        "    }\n",
        "}"
      ],
      "metadata": {
        "colab": {
          "base_uri": "https://localhost:8080/"
        },
        "id": "SDfEdJfTcSss",
        "outputId": "f9f39a95-f297-43d4-d900-39ba146adb88"
      },
      "execution_count": 13,
      "outputs": [
        {
          "output_type": "stream",
          "name": "stdout",
          "text": [
            "Overwriting src/Main.java\n"
          ]
        }
      ]
    },
    {
      "cell_type": "code",
      "source": [
        "%%writefile run.sh\n",
        "# Compilar A.java y crear el directorio bin si no existe\n",
        "javac -d bin src/Main.java\n",
        "mkdir -p bin/ejercicio1\n",
        "\n",
        "# Compilar Main.java y mover los archivos .class al directorio bin/ejercicio1\n",
        "java -cp bin ejercicio1.Main 1>output 2>/dev/null &\n",
        "wait $!\n",
        "\n",
        "cat ./output"
      ],
      "metadata": {
        "colab": {
          "base_uri": "https://localhost:8080/"
        },
        "id": "t8poZVl4dAa9",
        "outputId": "592e5ec3-f9c7-450e-dd21-590427c08eb3"
      },
      "execution_count": 11,
      "outputs": [
        {
          "output_type": "stream",
          "name": "stdout",
          "text": [
            "Overwriting run.sh\n"
          ]
        }
      ]
    },
    {
      "cell_type": "code",
      "source": [
        "!bash run.sh"
      ],
      "metadata": {
        "colab": {
          "base_uri": "https://localhost:8080/"
        },
        "id": "zXCn1ujPdUF6",
        "outputId": "da6829e3-f336-41bc-e4b5-aea362d0acaf"
      },
      "execution_count": 14,
      "outputs": [
        {
          "output_type": "stream",
          "name": "stdout",
          "text": [
            "Matriz resultado secuencial\n",
            " 15 -26   0  -1 -33 \n",
            " 15  18 -15  59  13 \n",
            "-29 -10 -35  22 -30 \n",
            " 23  -5  -7 -42 -49 \n",
            "-24   5   0 -25 -26 \n",
            "Matriz resultado con hilos\n",
            " 15 -26   0  -1 -33 \n",
            " 15  18 -15  59  13 \n",
            "-29 -10 -35  22 -30 \n",
            " 23  -5  -7 -42 -49 \n",
            "-24   5   0 -25 -26 \n"
          ]
        }
      ]
    }
  ]
}