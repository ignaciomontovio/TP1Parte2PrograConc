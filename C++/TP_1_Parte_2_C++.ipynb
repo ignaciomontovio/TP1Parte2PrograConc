{
  "nbformat": 4,
  "nbformat_minor": 0,
  "metadata": {
    "colab": {
      "provenance": [],
      "authorship_tag": "ABX9TyOeTrswtP4tz+eMxpmle9iV",
      "include_colab_link": true
    },
    "kernelspec": {
      "name": "python3",
      "display_name": "Python 3"
    },
    "language_info": {
      "name": "python"
    }
  },
  "cells": [
    {
      "cell_type": "markdown",
      "metadata": {
        "id": "view-in-github",
        "colab_type": "text"
      },
      "source": [
        "<a href=\"https://colab.research.google.com/github/ignaciomontovio/TP1Parte2PrograConc/blob/c%2B%2B/TP_1_Parte_2_C%2B%2B.ipynb\" target=\"_parent\"><img src=\"https://colab.research.google.com/assets/colab-badge.svg\" alt=\"Open In Colab\"/></a>"
      ]
    },
    {
      "cell_type": "markdown",
      "source": [
        "# TP 1 - Parte 2 - C++\n",
        "\n",
        "Creamos unas carpetas para organizarnos..."
      ],
      "metadata": {
        "id": "06-fhRa4n64Y"
      }
    },
    {
      "cell_type": "code",
      "source": [
        "!mkdir src\n",
        "!mkdir bin"
      ],
      "metadata": {
        "id": "MaakG4KqDpM7"
      },
      "execution_count": 1,
      "outputs": []
    },
    {
      "cell_type": "markdown",
      "source": [
        "El codigo fuente:"
      ],
      "metadata": {
        "id": "WJLrSuY-qIMW"
      }
    },
    {
      "cell_type": "code",
      "source": [
        "%%writefile src/matrix_sum.cpp\n",
        "#include <cstdlib>\n",
        "#include <ctime>\n",
        "#include <iomanip>\n",
        "#include <iostream>\n",
        "#include <thread>\n",
        "\n",
        "#define ROW_SIZE 5\n",
        "#define PAD_WIDTH 4\n",
        "#define UPPER_BOUND 32\n",
        "#define LOWER_BOUND -32\n",
        "\n",
        "typedef int int_array[ROW_SIZE];\n",
        "typedef int int_matrix[ROW_SIZE][ROW_SIZE];\n",
        "\n",
        "void generateMatrix(int_matrix &mx);\n",
        "void concurrentSum(int_array &a, int_array &b, int_array &r);\n",
        "void printMatrix(int_matrix &ma, int_matrix &mb, int_matrix &mr);\n",
        "void sequentialSum(int_matrix &ma, int_matrix &mb, int_matrix &mr);\n",
        "\n",
        "int main()\n",
        "{\n",
        "  int_matrix matrix_a;\n",
        "  int_matrix matrix_b;\n",
        "  int_matrix matrix_cs;\n",
        "  int_matrix matrix_cc;\n",
        "\n",
        "  std::thread threads[ROW_SIZE];\n",
        "\n",
        "  srand(time(0));\n",
        "\n",
        "  generateMatrix(matrix_a);\n",
        "  generateMatrix(matrix_b);\n",
        "\n",
        "  sequentialSum(matrix_a, matrix_b, matrix_cs);\n",
        "\n",
        "  for (size_t i = 0; i < ROW_SIZE; i++)\n",
        "  {\n",
        "    threads[i] = std::thread(concurrentSum, std::ref(matrix_a[i]),\n",
        "                             std::ref(matrix_b[i]), std::ref(matrix_cc[i]));\n",
        "  }\n",
        "\n",
        "  for (size_t i = 0; i < ROW_SIZE; i++)\n",
        "  {\n",
        "    threads[i].join();\n",
        "  }\n",
        "\n",
        "  printMatrix(matrix_a, matrix_b, matrix_cc);\n",
        "\n",
        "  for (size_t i = 0; i < ROW_SIZE; i++)\n",
        "  {\n",
        "    for (size_t j = 0; j < ROW_SIZE; j++)\n",
        "    {\n",
        "      if (matrix_cs[i][j] != matrix_cc[i][j])\n",
        "      {\n",
        "        std::cout << \"[Error] - Matriz CS es distinta a la matriz CC.\"\n",
        "                  << std::endl;\n",
        "        return EXIT_FAILURE;\n",
        "      }\n",
        "    }\n",
        "  }\n",
        "\n",
        "  std::cout << \"Matriz CS es igual a la matriz CC.\" << std::endl;\n",
        "  return EXIT_SUCCESS;\n",
        "}\n",
        "\n",
        "void generateMatrix(int_matrix &mx)\n",
        "{\n",
        "  for (size_t i = 0; i < ROW_SIZE; i++)\n",
        "  {\n",
        "    for (size_t j = 0; j < ROW_SIZE; j++)\n",
        "    {\n",
        "      int new_value = (rand() % (UPPER_BOUND - LOWER_BOUND + 1)) + LOWER_BOUND;\n",
        "      mx[i][j] = new_value;\n",
        "    }\n",
        "  }\n",
        "}\n",
        "\n",
        "void sequentialSum(int_matrix &ma, int_matrix &mb, int_matrix &mr)\n",
        "{\n",
        "  for (size_t i = 0; i < ROW_SIZE; i++)\n",
        "  {\n",
        "    for (size_t j = 0; j < ROW_SIZE; j++)\n",
        "    {\n",
        "      mr[i][j] = ma[i][j] + mb[i][j];\n",
        "    }\n",
        "  }\n",
        "}\n",
        "\n",
        "void concurrentSum(int_array &a, int_array &b, int_array &r)\n",
        "{\n",
        "  for (size_t i = 0; i < ROW_SIZE; i++)\n",
        "  {\n",
        "    r[i] = a[i] + b[i];\n",
        "  }\n",
        "}\n",
        "\n",
        "void printMatrix(int_matrix &ma, int_matrix &mb, int_matrix &mr)\n",
        "{\n",
        "  for (size_t i = 0; i < ROW_SIZE; i++)\n",
        "  {\n",
        "    for (size_t j = 0; j < ROW_SIZE; j++)\n",
        "    {\n",
        "      std::cout << std::setw(PAD_WIDTH) << ma[i][j];\n",
        "    }\n",
        "\n",
        "    (i == ROW_SIZE / 2) ? std::cout << \"   +  \" : std::cout << \"      \";\n",
        "\n",
        "    for (size_t j = 0; j < ROW_SIZE; j++)\n",
        "    {\n",
        "      std::cout << std::setw(PAD_WIDTH) << mb[i][j];\n",
        "    }\n",
        "\n",
        "    (i == ROW_SIZE / 2) ? std::cout << \"   =  \" : std::cout << \"      \";\n",
        "\n",
        "    for (size_t j = 0; j < ROW_SIZE; j++)\n",
        "    {\n",
        "      std::cout << std::setw(PAD_WIDTH) << mr[i][j];\n",
        "    }\n",
        "\n",
        "    std::cout << std::endl;\n",
        "  }\n",
        "}"
      ],
      "metadata": {
        "colab": {
          "base_uri": "https://localhost:8080/"
        },
        "id": "UBCzNd-ClqrU",
        "outputId": "4f5ebdd4-41c0-4a72-a504-79d969cf92ad"
      },
      "execution_count": 2,
      "outputs": [
        {
          "output_type": "stream",
          "name": "stdout",
          "text": [
            "Writing src/matrix_sum.cpp\n"
          ]
        }
      ]
    },
    {
      "cell_type": "code",
      "source": [
        "!g++ -std=c++17 -g src/matrix_sum.cpp -o bin/matrix_sum"
      ],
      "metadata": {
        "id": "CXmJejcGEOQX"
      },
      "execution_count": 3,
      "outputs": []
    },
    {
      "cell_type": "code",
      "source": [
        "!bin/matrix_sum"
      ],
      "metadata": {
        "id": "03xaJKdsETYv",
        "colab": {
          "base_uri": "https://localhost:8080/"
        },
        "outputId": "10ce0681-79fd-4b4d-89b9-eedd129c5819"
      },
      "execution_count": 4,
      "outputs": [
        {
          "output_type": "stream",
          "name": "stdout",
          "text": [
            "  27  -4   1  -4 -11       -10  13  14   6  18        17   9  15   2   7\n",
            "  32 -24  14 -25  28        -4   3 -18  32  31        28 -21  -4   7  59\n",
            "   9   8   3   1  -5   +     3  31 -24 -14 -26   =    12  39 -21 -13 -31\n",
            "  31  30  31   7 -28       -29  29  16   7   0         2  59  47  14 -28\n",
            "  -7 -29  12  -7  30       -22   7  -3 -21 -19       -29 -22   9 -28  11\n",
            "Matriz CS es igual a la matriz CC.\n"
          ]
        }
      ]
    }
  ]
}