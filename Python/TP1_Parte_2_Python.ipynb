{
  "nbformat": 4,
  "nbformat_minor": 0,
  "metadata": {
    "colab": {
      "provenance": [],
      "authorship_tag": "ABX9TyP1pYGqiy32OKuwMqAVADKq",
      "include_colab_link": true
    },
    "kernelspec": {
      "name": "python3",
      "display_name": "Python 3"
    },
    "language_info": {
      "name": "python"
    }
  },
  "cells": [
    {
      "cell_type": "markdown",
      "metadata": {
        "id": "view-in-github",
        "colab_type": "text"
      },
      "source": [
        "<a href=\"https://colab.research.google.com/github/ignaciomontovio/TP1Parte2PrograConc/blob/python/Python/TP1_Parte_2_Python.ipynb\" target=\"_parent\"><img src=\"https://colab.research.google.com/assets/colab-badge.svg\" alt=\"Open In Colab\"/></a>"
      ]
    },
    {
      "cell_type": "code",
      "execution_count": 55,
      "metadata": {
        "colab": {
          "base_uri": "https://localhost:8080/"
        },
        "id": "SxZ5Vqxrra9a",
        "outputId": "2c14224a-5bab-4160-ef0b-d7021a454564"
      },
      "outputs": [
        {
          "output_type": "stream",
          "name": "stdout",
          "text": [
            "Matriz 1 \n",
            " [[-152   60 -132  -36 -140]\n",
            " [ -84   36   36  -72   76]\n",
            " [ -60  -48  -12   56   60]\n",
            " [ -60    8   36  -20  -56]\n",
            " [ -28  -48  -16   84  -92]] \n",
            "\n",
            "Matriz 2 \n",
            " [[-152   60 -132  -36 -140]\n",
            " [ -84   36   36  -72   76]\n",
            " [ -60  -48  -12   56   60]\n",
            " [ -60    8   36  -20  -56]\n",
            " [ -28  -48  -16   84  -92]] \n",
            "\n",
            "Matriz CS \n",
            " [[-304  120 -264  -72 -280]\n",
            " [-168   72   72 -144  152]\n",
            " [-120  -96  -24  112  120]\n",
            " [-120   16   72  -40 -112]\n",
            " [ -56  -96  -32  168 -184]] \n",
            "\n",
            "Matriz CC \n",
            " [[-304  120 -264  -72 -280]\n",
            " [-168   72   72 -144  152]\n",
            " [-120  -96  -24  112  120]\n",
            " [-120   16   72  -40 -112]\n",
            " [ -56  -96  -32  168 -184]] \n",
            "\n",
            "Las matrices resultantes son iguales\n"
          ]
        }
      ],
      "source": [
        "import random\n",
        "import numpy\n",
        "import threading\n",
        "import time\n",
        "\n",
        "MAX_THREADS = 5\n",
        "ROW = 5\n",
        "COLUMN = 5\n",
        "MAX_NUMBER = 32\n",
        "MIN_NUMBER = -32\n",
        "\n",
        "m1=numpy.empty((ROW,COLUMN), int)\n",
        "m2=numpy.empty((ROW,COLUMN), int)\n",
        "CS=numpy.empty((ROW,COLUMN), int)\n",
        "CC=numpy.empty((ROW,COLUMN), int)\n",
        "\n",
        "def get_number():\n",
        "  return random.randrange(MIN_NUMBER,MAX_NUMBER)\n",
        "\n",
        "def get_sum(row_a,row_b,row_number):\n",
        "    for i in range(COLUMN):\n",
        "      CC[row_number][i]=row_a[i]+row_b[i]\n",
        "\n",
        "def sum_sec(m1,m2):\n",
        "  for i in range(ROW):\n",
        "    for j in range(COLUMN):\n",
        "      CS[i][j]=m1[i][j]+m2[i][j]\n",
        "\n",
        "def sum_con(m1,m2):\n",
        "  threads = []\n",
        "  CC= numpy.empty((ROW,COLUMN),int)\n",
        "  for i in range(MAX_THREADS):\n",
        "    threads.append(threading.Thread(target=get_sum,args=(m1[i],m2[i],i), daemon=False))\n",
        "  for i in range(MAX_THREADS):\n",
        "    threads[i].start()\n",
        "  for i in range(MAX_THREADS):\n",
        "    threads[i].join()\n",
        "\n",
        "def compare():\n",
        "  if numpy.equal(CS,CC).all():\n",
        "    print(\"Las matrices resultantes son iguales\")\n",
        "    return\n",
        "  print(\"Las matrices resultantes no son iguales\")\n",
        "  return\n",
        "\n",
        "def show_data():\n",
        "  print(\"Matriz 1\",\"\\n\",m1,\"\\n\")\n",
        "  print(\"Matriz 2\",\"\\n\",m2,\"\\n\")\n",
        "  print(\"Matriz CS\",\"\\n\",CS,\"\\n\")\n",
        "  print(\"Matriz CC\",\"\\n\",CC,\"\\n\")\n",
        "  compare()\n",
        "\n",
        "def set_data():\n",
        "  m1=numpy.array([[get_number(),get_number(),get_number(),get_number(),get_number()],\n",
        "      [get_number(),get_number(),get_number(),get_number(),get_number()],\n",
        "      [get_number(),get_number(),get_number(),get_number(),get_number()],\n",
        "      [get_number(),get_number(),get_number(),get_number(),get_number()],\n",
        "      [get_number(),get_number(),get_number(),get_number(),get_number()]])\n",
        "  m2=numpy.array([[get_number(),get_number(),get_number(),get_number(),get_number()],\n",
        "      [get_number(),get_number(),get_number(),get_number(),get_number()],\n",
        "      [get_number(),get_number(),get_number(),get_number(),get_number()],\n",
        "      [get_number(),get_number(),get_number(),get_number(),get_number()],\n",
        "      [get_number(),get_number(),get_number(),get_number(),get_number()]])\n",
        "\n",
        "def main():\n",
        "  set_data()\n",
        "  sum_sec(m1,m2)\n",
        "  sum_con(m1,m2)\n",
        "  show_data()\n",
        "\n",
        "if __name__ == '__main__':\n",
        "   main()"
      ]
    },
    {
      "cell_type": "code",
      "source": [],
      "metadata": {
        "id": "RESP7r7IG80P"
      },
      "execution_count": null,
      "outputs": []
    },
    {
      "cell_type": "markdown",
      "source": [
        "Utilizo numpy porque es mas comodo para visualizar las matrices pero no utilizo la funcion de suma entre matrices que proporciona, porque no se si es secuencial o concurrente."
      ],
      "metadata": {
        "id": "CIz4m3tt30nc"
      }
    }
  ]
}
